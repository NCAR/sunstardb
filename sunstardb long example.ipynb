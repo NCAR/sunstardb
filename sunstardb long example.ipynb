{
 "cells": [
  {
   "cell_type": "markdown",
   "metadata": {},
   "source": [
    "# sunstardb long example\n",
    "\n",
    "This notebook contains an extended example of the sunstardb application programming interfaces (APIs).  The focus is on \"data discovery\", that is on methods to find out what are the contents of the database."
   ]
  },
  {
   "cell_type": "markdown",
   "metadata": {},
   "source": [
    "## import libraries\n",
    "\n",
    "First we load libraries which will be useful for this exercise."
   ]
  },
  {
   "cell_type": "code",
   "execution_count": 1,
   "metadata": {},
   "outputs": [],
   "source": [
    "%load_ext autoreload\n",
    "%autoreload 2"
   ]
  },
  {
   "cell_type": "code",
   "execution_count": 2,
   "metadata": {},
   "outputs": [],
   "source": [
    "import numpy as np\n",
    "import matplotlib as mpl\n",
    "from matplotlib import pyplot as plt\n",
    "import astropy\n",
    "import sunstardb.database\n",
    "import IPython.display"
   ]
  },
  {
   "cell_type": "code",
   "execution_count": 3,
   "metadata": {},
   "outputs": [],
   "source": [
    "%matplotlib inline"
   ]
  },
  {
   "cell_type": "markdown",
   "metadata": {},
   "source": [
    "## connect to the database\n",
    "\n",
    "This command establishes a connection to the sunstardb database, which is implemented in PostgreSQL."
   ]
  },
  {
   "cell_type": "code",
   "execution_count": 4,
   "metadata": {},
   "outputs": [],
   "source": [
    "db = sunstardb.database.SunStarDB()"
   ]
  },
  {
   "cell_type": "markdown",
   "metadata": {},
   "source": [
    "## data types\n",
    "\n",
    "These are the kinds of data contained in the database.  They may come from various sources."
   ]
  },
  {
   "cell_type": "code",
   "execution_count": 5,
   "metadata": {},
   "outputs": [
    {
     "name": "stdout",
     "output_type": "stream",
     "text": [
      "N datatypes 9\n"
     ]
    },
    {
     "data": {
      "text/html": [
       "<i>Table length=9</i>\n",
       "<table id=\"table4469145672\" class=\"table-striped table-bordered table-condensed\">\n",
       "<thead><tr><th>id</th><th>name</th><th>struct</th><th>units</th><th>description</th></tr></thead>\n",
       "<thead><tr><th>int64</th><th>str14</th><th>str10</th><th>object</th><th>str566</th></tr></thead>\n",
       "<tr><td>1</td><td>S_mean</td><td>MEASURE</td><td>None</td><td>Mount Wilson Observatory S-index, a ratio of CaII H and K line core and continuum intensities.</td></tr>\n",
       "<tr><td>2</td><td>S</td><td>TIMESERIES</td><td>None</td><td>Mount Wilson Observatory S-index, a ratio of CaII H and K line core and continuum intensities.</td></tr>\n",
       "<tr><td>3</td><td>Pcyc</td><td>MEASURE</td><td>years</td><td>Period of magnetic activity cycle.</td></tr>\n",
       "<tr><td>4</td><td>Pcyc2</td><td>MEASURE</td><td>years</td><td>Second most significant period from an indice of the magnetic activity cycle.</td></tr>\n",
       "<tr><td>5</td><td>activity_class</td><td>LABEL</td><td>None</td><td>Description of a star&apos;s long-term magnetic activity, as defined by Baliunas et al. 1995.  Values are either &quot;cycling&quot; for a measured activity cycle, &quot;cycling2&quot; for two significant activity cycles, &quot;variable&quot; for signficant variablity without pronounced periodicity, on timescales longer than 1 yr but shorter than 25 yr (mean fractional variance of S-index greater than 2%). &quot;flat&quot; means a mean fractional variance of S-index less than 1%-1.5%. &quot;flat?&quot; means a mean fractional variance of 1.5%-2%. &quot;long&quot; means signficant variability on timescales longer than 25 yr.</td></tr>\n",
       "<tr><td>10</td><td>logRpHK</td><td>TIMESERIES</td><td>None</td><td>Ratio of CaII H and K line core flux due to chromospheric emission to bolometric flux</td></tr>\n",
       "<tr><td>11</td><td>by</td><td>TIMESERIES</td><td>mag</td><td>Stromgren photometry bands b and y, combined as an average (b+y)/2</td></tr>\n",
       "<tr><td>12</td><td>Prot</td><td>MEASURE</td><td>days</td><td>Period of rotation.</td></tr>\n",
       "<tr><td>13</td><td>logRpHK_mean</td><td>MEASURE</td><td>None</td><td>Ratio of CaII H and K line core flux due to chromospheric emission to bolometric flux</td></tr>\n",
       "</table>"
      ],
      "text/plain": [
       "<Table length=9>\n",
       "  id  ...\n",
       "int64 ...\n",
       "----- ...\n",
       "    1 ...\n",
       "    2 ...\n",
       "    3 ...\n",
       "    4 ...\n",
       "    5 ...\n",
       "   10 ...\n",
       "   11 ...\n",
       "   12 ...\n",
       "   13 ..."
      ]
     },
     "execution_count": 5,
     "metadata": {},
     "output_type": "execute_result"
    }
   ],
   "source": [
    "dtypes = db.fetchall_datatypes()\n",
    "print(\"N datatypes\", len(dtypes))\n",
    "dtypes"
   ]
  },
  {
   "cell_type": "markdown",
   "metadata": {},
   "source": [
    "## data sources\n",
    "\n",
    "A 'source' represents the format the data was in immediately before being inserted into sunstardb.  Most come from data files (`kind='FILE'`), but processed results directly from code are another possibility (`kind='CODE'`).  The `name` is a unique identifier of the data package which was read into sunstardb."
   ]
  },
  {
   "cell_type": "code",
   "execution_count": 6,
   "metadata": {},
   "outputs": [
    {
     "name": "stdout",
     "output_type": "stream",
     "text": [
      "N sources 19\n"
     ]
    },
    {
     "data": {
      "text/html": [
       "<i>Table length=19</i>\n",
       "<table id=\"table4469146344\" class=\"table-striped table-bordered table-condensed\">\n",
       "<thead><tr><th>id</th><th>name</th><th>kind</th><th>version</th><th>origin</th><th>source</th><th>source_time</th><th>insert_time</th></tr></thead>\n",
       "<thead><tr><th>int64</th><th>str20</th><th>str4</th><th>object</th><th>int64</th><th>object</th><th>object</th><th>object</th></tr></thead>\n",
       "<tr><td>1</td><td>Baliunas1995</td><td>FILE</td><td>None</td><td>1</td><td>None</td><td>2014-09-18 20:28:12</td><td>2014-11-07 15:02:32.592585</td></tr>\n",
       "<tr><td>132</td><td>Gaidos2000</td><td>FILE</td><td>None</td><td>111</td><td>None</td><td>2016-02-11 17:09:58</td><td>2016-02-11 17:10:45.847451</td></tr>\n",
       "<tr><td>9</td><td>Duncan1991</td><td>FILE</td><td>None</td><td>9</td><td>None</td><td>2014-11-07 15:08:18</td><td>2014-11-07 15:16:51.076503</td></tr>\n",
       "<tr><td>19</td><td>SMARTS_HK</td><td>FILE</td><td>None</td><td>16</td><td>None</td><td>2014-12-05 14:46:14</td><td>2014-12-05 14:46:14.882798</td></tr>\n",
       "<tr><td>143</td><td>Petit2008</td><td>FILE</td><td>None</td><td>122</td><td>None</td><td>2016-02-12 12:16:13</td><td>2016-02-12 12:16:57.563765</td></tr>\n",
       "<tr><td>147</td><td>Simpson2010</td><td>FILE</td><td>None</td><td>126</td><td>None</td><td>2016-02-12 14:08:17</td><td>2016-02-12 14:08:46.560031</td></tr>\n",
       "<tr><td>152</td><td>Suarez_Mascareno2015</td><td>FILE</td><td>None</td><td>131</td><td>None</td><td>2016-02-12 14:43:59</td><td>2016-02-12 14:45:11.149287</td></tr>\n",
       "<tr><td>154</td><td>Olah2016</td><td>FILE</td><td>None</td><td>133</td><td>None</td><td>2017-01-27 15:40:28</td><td>2017-01-27 15:40:42.427325</td></tr>\n",
       "<tr><td>158</td><td>Hempelmann2016</td><td>FILE</td><td>None</td><td>135</td><td>None</td><td>2017-02-02 14:09:36</td><td>2017-02-02 14:09:36.715040</td></tr>\n",
       "<tr><td>160</td><td>Donahue1997</td><td>FILE</td><td>None</td><td>137</td><td>None</td><td>2017-02-03 15:10:47</td><td>2017-02-03 15:10:47.803152</td></tr>\n",
       "<tr><td>51</td><td>Isaacson2010</td><td>FILE</td><td>None</td><td>50</td><td>None</td><td>2015-01-19 15:57:40</td><td>2015-01-19 15:59:29.824817</td></tr>\n",
       "<tr><td>54</td><td>HARPS</td><td>FILE</td><td>None</td><td>53</td><td>None</td><td>2015-01-20 18:32:53</td><td>2015-01-20 18:32:53.963037</td></tr>\n",
       "<tr><td>62</td><td>FairbornAPT</td><td>FILE</td><td>None</td><td>54</td><td>None</td><td>2015-02-17 11:50:23</td><td>2015-02-17 11:50:38.293245</td></tr>\n",
       "<tr><td>70</td><td>SSS</td><td>FILE</td><td>None</td><td>18</td><td>None</td><td>2015-10-01 13:54:38</td><td>2015-10-01 13:55:54.261018</td></tr>\n",
       "<tr><td>75</td><td>MWO_HK</td><td>FILE</td><td>None</td><td>13</td><td>None</td><td>2016-02-03 15:25:08</td><td>2016-02-03 15:25:08.017729</td></tr>\n",
       "<tr><td>90</td><td>Baliunas1996</td><td>FILE</td><td>None</td><td>69</td><td>None</td><td>2016-02-10 12:07:49</td><td>2016-02-10 12:12:45.036267</td></tr>\n",
       "<tr><td>100</td><td>Donahue1996</td><td>FILE</td><td>None</td><td>79</td><td>None</td><td>2016-02-11 14:27:16</td><td>2016-02-11 14:27:25.346527</td></tr>\n",
       "<tr><td>107</td><td>Noyes1984</td><td>FILE</td><td>None</td><td>86</td><td>None</td><td>2016-02-11 15:02:57</td><td>2016-02-11 15:04:36.131857</td></tr>\n",
       "<tr><td>112</td><td>Donahue1993phd</td><td>FILE</td><td>None</td><td>91</td><td>None</td><td>2016-02-11 15:27:48</td><td>2016-02-11 15:28:47.514933</td></tr>\n",
       "</table>"
      ],
      "text/plain": [
       "<Table length=19>\n",
       "  id          name         ...     source_time            insert_time        \n",
       "int64        str20         ...        object                 object          \n",
       "----- -------------------- ... ------------------- --------------------------\n",
       "    1         Baliunas1995 ... 2014-09-18 20:28:12 2014-11-07 15:02:32.592585\n",
       "  132           Gaidos2000 ... 2016-02-11 17:09:58 2016-02-11 17:10:45.847451\n",
       "    9           Duncan1991 ... 2014-11-07 15:08:18 2014-11-07 15:16:51.076503\n",
       "   19            SMARTS_HK ... 2014-12-05 14:46:14 2014-12-05 14:46:14.882798\n",
       "  143            Petit2008 ... 2016-02-12 12:16:13 2016-02-12 12:16:57.563765\n",
       "  147          Simpson2010 ... 2016-02-12 14:08:17 2016-02-12 14:08:46.560031\n",
       "  152 Suarez_Mascareno2015 ... 2016-02-12 14:43:59 2016-02-12 14:45:11.149287\n",
       "  154             Olah2016 ... 2017-01-27 15:40:28 2017-01-27 15:40:42.427325\n",
       "  158       Hempelmann2016 ... 2017-02-02 14:09:36 2017-02-02 14:09:36.715040\n",
       "  160          Donahue1997 ... 2017-02-03 15:10:47 2017-02-03 15:10:47.803152\n",
       "   51         Isaacson2010 ... 2015-01-19 15:57:40 2015-01-19 15:59:29.824817\n",
       "   54                HARPS ... 2015-01-20 18:32:53 2015-01-20 18:32:53.963037\n",
       "   62          FairbornAPT ... 2015-02-17 11:50:23 2015-02-17 11:50:38.293245\n",
       "   70                  SSS ... 2015-10-01 13:54:38 2015-10-01 13:55:54.261018\n",
       "   75               MWO_HK ... 2016-02-03 15:25:08 2016-02-03 15:25:08.017729\n",
       "   90         Baliunas1996 ... 2016-02-10 12:07:49 2016-02-10 12:12:45.036267\n",
       "  100          Donahue1996 ... 2016-02-11 14:27:16 2016-02-11 14:27:25.346527\n",
       "  107            Noyes1984 ... 2016-02-11 15:02:57 2016-02-11 15:04:36.131857\n",
       "  112       Donahue1993phd ... 2016-02-11 15:27:48 2016-02-11 15:28:47.514933"
      ]
     },
     "execution_count": 6,
     "metadata": {},
     "output_type": "execute_result"
    }
   ],
   "source": [
    "sources = db.fetchall_sources()\n",
    "print(\"N sources\", len(sources))\n",
    "sources"
   ]
  },
  {
   "cell_type": "markdown",
   "metadata": {},
   "source": [
    "## data origins\n",
    "\n",
    "An origin represents the provider of data inserted into sunstardb.  Most are from published tables in the literature that were transcribed to a text file which was inserted into sunstardb (e.g. `kind='PAPER'` `name='Baliunas et al. 1995'`).  Others were data files provided by persons associated with observation programs (e.g. `kind='RAW'`, `name='Willie Soon'`)."
   ]
  },
  {
   "cell_type": "code",
   "execution_count": 7,
   "metadata": {},
   "outputs": [
    {
     "name": "stdout",
     "output_type": "stream",
     "text": [
      "N origins 19\n"
     ]
    },
    {
     "data": {
      "text/html": [
       "<i>Table length=19</i>\n",
       "<table id=\"table4469107792\" class=\"table-striped table-bordered table-condensed\">\n",
       "<thead><tr><th>id</th><th>name</th><th>kind</th><th>url</th><th>description</th><th>insert_time</th></tr></thead>\n",
       "<thead><tr><th>int64</th><th>str28</th><th>str5</th><th>object</th><th>str234</th><th>object</th></tr></thead>\n",
       "<tr><td>1</td><td>Baliunas et al. 1995</td><td>PAPER</td><td>adslabs.harvard.edu/abs/1995ApJ...438..269B</td><td>Baliunas et al., &quot;Chromospheric variations in main-sequence stars&quot;, Astrophysical Journal, vol. 438, no. 1, p. 269-287, (1995)</td><td>2014-11-07 15:02:32.592585</td></tr>\n",
       "<tr><td>111</td><td>Gaidos et al. 2000</td><td>PAPER</td><td>adslabs.harvard.edu/abs/2000AJ....120.1006G</td><td>E. J. Gaidos, G. W. Henry, and S. M. Henry, &quot;Spectroscopy and Photometry of Nearby Young Solar Analogs&quot;, Astrophysical Journal, vol. 120, no. 2,  p. 1006-1013, (2000)</td><td>2016-02-11 17:10:45.847451</td></tr>\n",
       "<tr><td>126</td><td>Simpson et al. 2010</td><td>PAPER</td><td>adslabs.harvard.edu/abs/2010MNRAS.408.1666S</td><td>Simpson et al., &quot;Rotation periods of exoplanet host stars&quot;, Monthly Notices of the Royal Astronomical Society, Volume 408, Issue 3, pp. 1666-1679 (2010)</td><td>2016-02-12 14:08:46.560031</td></tr>\n",
       "<tr><td>9</td><td>VizieR III/159A</td><td>WEB</td><td>http://cdsarc.u-strasbg.fr/viz-bin/Cat?III/159A</td><td>CaII H and K measurements made at Mount Wilson Observatory, 1966-1983</td><td>2014-11-07 15:16:51.076503</td></tr>\n",
       "<tr><td>137</td><td>Donahue et al. 1997</td><td>PAPER</td><td>adslabs.harvard.edu/abs/1997SoPh..171..191D</td><td>R. A. Donahue, A. K. Dobson, and S. L. Baliunas, &quot;Stellar Active Region Evolution - I. Estimated Lifetimes of Chromospheric Active Regions and Active Region Complexes&quot;, Solar Physics, v. 171, Issue 1, p. 191-209. (1997)</td><td>2017-02-03 15:10:47.803152</td></tr>\n",
       "<tr><td>13</td><td>Willie Soon</td><td>RAW</td><td>None</td><td>Received via email from Willie Soon &lt;wsoon@cfa.harvard.edu&gt; on Oct 10, 2014</td><td>2014-11-07 15:45:07.959384</td></tr>\n",
       "<tr><td>16</td><td>SMARTS HK Data Website</td><td>WEB</td><td>http://gemelli.spacescience.org/~trme9702/HK/</td><td>SMARTS HK data published in home directory of Travis Metcalfe &lt;travis@spsci.org&gt;, retrieved Oct 28, 2014</td><td>2014-11-07 15:51:18.230304</td></tr>\n",
       "<tr><td>18</td><td>Jeffrey Hall</td><td>RAW</td><td>None</td><td>Received via email from Jeffrey Hall &lt;jch@lowell.edu&gt; on Nov 14, 2014</td><td>2014-11-18 10:38:18.780504</td></tr>\n",
       "<tr><td>135</td><td>Hempelmann et al. 2016</td><td>PAPER</td><td>adslabs.harvard.edu/abs/2016A&amp;A...586A..14H</td><td>Hempelmann et al. &quot;Measuring rotation periods of solar-like stars using TIGRE. A study of periodic CaII H+K S-index variability&quot;, Astronomy &amp; Astrophysics, Volume 586, id.A14, 19 pp. (2016)</td><td>2017-02-02 13:31:44.470250</td></tr>\n",
       "<tr><td>50</td><td>VizieR J/ApJ/725/875</td><td>WEB</td><td>http://cdsarc.u-strasbg.fr/viz-bin/Cat?J/ApJ/725/875</td><td>Chromospheric activity and jitter measurements for 2630 stars on the California Planet Search.</td><td>2015-01-19 15:59:29.824817</td></tr>\n",
       "<tr><td>53</td><td>Megan Bedell</td><td>RAW</td><td>None</td><td>Received via email from Megan Bedell &lt;mbedell@oddjob.uchicago.edu&gt; on Dec 17, 2014</td><td>2015-01-20 18:32:53.963037</td></tr>\n",
       "<tr><td>54</td><td>Gregory Henry</td><td>RAW</td><td>None</td><td>Received via email from Gregory Henry &lt;gregory.w.henry@gmail.com&gt; on Feb 13, 2015</td><td>2015-02-17 11:42:53.012504</td></tr>\n",
       "<tr><td>69</td><td>Baliunas et al. 1996</td><td>PAPER</td><td>adslabs.harvard.edu/abs/1996ApJ...457L..99B</td><td>Sallie Baliunas, Dmitry Sokoloff, and Willie Soon, &quot;Magnetic Field and Rotation in Lower Main-Sequence Stars: An Empirical Time-Dependent Magnetic Bode&apos;s Relation?&quot;, Astrophysical Journal, vol. 457, p. 99-102, (1996)</td><td>2016-02-10 12:12:45.036267</td></tr>\n",
       "<tr><td>122</td><td>Petit et al. 2008</td><td>PAPER</td><td>adslabs.harvard.edu/abs/2008MNRAS.388...80P</td><td>Petit et al., &quot;Toroidal versus poloidal magnetic fields in Sun-like stars: a rotation threshold&quot;, Monthly Notices of the Royal Astronomical Society, Volume 388, Issue 1, pp. 80-88 (2008)</td><td>2016-02-12 12:16:57.563765</td></tr>\n",
       "<tr><td>131</td><td>Suarez Mascareno et al. 2015</td><td>PAPER</td><td>adslabs.harvard.edu/abs/2015MNRAS.452.2745S</td><td>Suarez Mascareno et al., &quot;Rotation periods of late-type dwarf stars from time series high-resolution spectroscopy of chromospheric indicators&quot;, Monthly Notices of the Royal Astronomical Society, Volume 452, Issue 3, p.2745-2756 (2015)</td><td>2016-02-12 14:45:11.149287</td></tr>\n",
       "<tr><td>133</td><td>Olah et al. 2010</td><td>PAPER</td><td>adslabs.harvard.edu/abs/2016A&amp;A...590A.133O</td><td>Olah et al., &quot;Magnetic Cycles at Different Ages of Stars&quot;, Astronomy &amp; Astrophysics, Volume 590, id.A133 (2016)</td><td>2017-01-27 15:40:42.427325</td></tr>\n",
       "<tr><td>79</td><td>Donahue et al. 1996</td><td>PAPER</td><td>adslabs.harvard.edu/abs/1996ApJ...466..384D</td><td>Robert A. Donahue, Steven H. Saar, and Sallie L. Baliunas, &quot;A Relationship between Mean Rotation Period in Lower Main-Sequence Stars and Its Observed Range&quot;, Astrophysical Journal, vol. 466, p. 384, (1996)</td><td>2016-02-11 14:27:25.346527</td></tr>\n",
       "<tr><td>86</td><td>Noyes et al. 1984</td><td>PAPER</td><td>adslabs.harvard.edu/abs/1984ApJ...279..763N</td><td>Noyes et al. 1984,, &quot;Rotation, convection, and magnetic activity in lower main-sequence stars&quot;, Astrophysical Journal, vol. 279, p. 763-777, (1984)</td><td>2016-02-11 15:04:36.131857</td></tr>\n",
       "<tr><td>91</td><td>Donahue 1993 PhD Thesis</td><td>PAPER</td><td>adslabs.harvard.edu/abs/1993PhDT.........3D</td><td>Robert A. Donahue, &quot;Surface differential rotation in a sample of cool dwarf stars&quot;, Ph.D. Thesis, New Mexico State University (1993)</td><td>2016-02-11 15:28:47.514933</td></tr>\n",
       "</table>"
      ],
      "text/plain": [
       "<Table length=19>\n",
       "  id              name             ...        insert_time        \n",
       "int64            str28             ...           object          \n",
       "----- ---------------------------- ... --------------------------\n",
       "    1         Baliunas et al. 1995 ... 2014-11-07 15:02:32.592585\n",
       "  111           Gaidos et al. 2000 ... 2016-02-11 17:10:45.847451\n",
       "  126          Simpson et al. 2010 ... 2016-02-12 14:08:46.560031\n",
       "    9              VizieR III/159A ... 2014-11-07 15:16:51.076503\n",
       "  137          Donahue et al. 1997 ... 2017-02-03 15:10:47.803152\n",
       "   13                  Willie Soon ... 2014-11-07 15:45:07.959384\n",
       "   16       SMARTS HK Data Website ... 2014-11-07 15:51:18.230304\n",
       "   18                 Jeffrey Hall ... 2014-11-18 10:38:18.780504\n",
       "  135       Hempelmann et al. 2016 ... 2017-02-02 13:31:44.470250\n",
       "   50         VizieR J/ApJ/725/875 ... 2015-01-19 15:59:29.824817\n",
       "   53                 Megan Bedell ... 2015-01-20 18:32:53.963037\n",
       "   54                Gregory Henry ... 2015-02-17 11:42:53.012504\n",
       "   69         Baliunas et al. 1996 ... 2016-02-10 12:12:45.036267\n",
       "  122            Petit et al. 2008 ... 2016-02-12 12:16:57.563765\n",
       "  131 Suarez Mascareno et al. 2015 ... 2016-02-12 14:45:11.149287\n",
       "  133             Olah et al. 2010 ... 2017-01-27 15:40:42.427325\n",
       "   79          Donahue et al. 1996 ... 2016-02-11 14:27:25.346527\n",
       "   86            Noyes et al. 1984 ... 2016-02-11 15:04:36.131857\n",
       "   91      Donahue 1993 PhD Thesis ... 2016-02-11 15:28:47.514933"
      ]
     },
     "execution_count": 7,
     "metadata": {},
     "output_type": "execute_result"
    }
   ],
   "source": [
    "origins = db.fetchall_origins()\n",
    "print(\"N origins\", len(origins))\n",
    "origins"
   ]
  },
  {
   "cell_type": "markdown",
   "metadata": {},
   "source": [
    "## instruments\n",
    "\n",
    "Most of the data in sunstardb comes from observation programs.  The instrument responsible for obtaining the data is associated with each datum."
   ]
  },
  {
   "cell_type": "code",
   "execution_count": 8,
   "metadata": {},
   "outputs": [
    {
     "name": "stdout",
     "output_type": "stream",
     "text": [
      "N instruments 10\n"
     ]
    },
    {
     "data": {
      "text/html": [
       "<i>Table length=10</i>\n",
       "<table id=\"table4469233536\" class=\"table-striped table-bordered table-condensed\">\n",
       "<thead><tr><th>id</th><th>name</th><th>long</th><th>url</th><th>description</th><th>insert_time</th></tr></thead>\n",
       "<thead><tr><th>int64</th><th>str16</th><th>str53</th><th>str64</th><th>str4</th><th>object</th></tr></thead>\n",
       "<tr><td>1</td><td>MWO-HK</td><td>Mount Wilson Observatory H-K Project</td><td>http://www.mtwilson.edu/hk/</td><td>TODO</td><td>2014-11-07 15:02:31.066051</td></tr>\n",
       "<tr><td>2</td><td>SMARTS-HK</td><td>SMARTS 1.5 m telescope CSPEC + L1K</td><td>http://gemelli.spacescience.org/~trme9702/HK/</td><td>TODO</td><td>2014-11-07 15:02:31.066051</td></tr>\n",
       "<tr><td>3</td><td>SSS</td><td>Solar Stellar Spectrograph</td><td>http://www2.lowell.edu/users/jch/sss/index.php</td><td>TODO</td><td>2014-11-18 10:32:43.681545</td></tr>\n",
       "<tr><td>4</td><td>Keck HIRES</td><td>Keck Observatory High Resolution Echelle Spectrometer</td><td>http://www2.keck.hawaii.edu/inst/hires/</td><td>TODO</td><td>2015-01-15 11:07:11.618892</td></tr>\n",
       "<tr><td>5</td><td>HARPS</td><td>High Accuracy Radial Velocity Planet Searcher</td><td>http://www.eso.org/sci/facilities/lasilla/instruments/harps.html</td><td>TODO</td><td>2015-01-20 18:28:46.494184</td></tr>\n",
       "<tr><td>6</td><td>Fairborn APT T4</td><td>Fairborn Automated Photometric Telescope T4 (0.75 m)</td><td>http://schwab.tsuniv.edu/t4.html</td><td>TODO</td><td>2015-02-17 11:28:38.808606</td></tr>\n",
       "<tr><td>7</td><td>Fairborn APT T3</td><td>Fairborn Automated Photometric Telescope T3 (0.40 m)</td><td>http://schwab.tsuniv.edu/t3.html</td><td>TODO</td><td>2016-02-11 16:51:44.147206</td></tr>\n",
       "<tr><td>8</td><td>NARVAL</td><td>Observatoire du Pic du Midi NARVAL spectropolarimeter</td><td>http://www.ast.obs-mip.fr/projets/narval/v1/</td><td>TODO</td><td>2016-02-12 11:54:05.184881</td></tr>\n",
       "<tr><td>9</td><td>Fairborn APT T11</td><td>Fairborn Automated Photometric Telescope T11 (0.80 m)</td><td>http://schwab.tsuniv.edu/t11.html</td><td>TODO</td><td>2016-02-12 14:07:16.376686</td></tr>\n",
       "<tr><td>10</td><td>TIGRE</td><td>La Luz Observatory TIGRE Echelle Spectrograph</td><td>http://www.hs.uni-hamburg.de/EN/Ins/HRT/hrt_general_info.html</td><td>TODO</td><td>2017-02-02 13:30:00.305440</td></tr>\n",
       "</table>"
      ],
      "text/plain": [
       "<Table length=10>\n",
       "  id        name       ... description        insert_time        \n",
       "int64      str16       ...     str4              object          \n",
       "----- ---------------- ... ----------- --------------------------\n",
       "    1           MWO-HK ...        TODO 2014-11-07 15:02:31.066051\n",
       "    2        SMARTS-HK ...        TODO 2014-11-07 15:02:31.066051\n",
       "    3              SSS ...        TODO 2014-11-18 10:32:43.681545\n",
       "    4       Keck HIRES ...        TODO 2015-01-15 11:07:11.618892\n",
       "    5            HARPS ...        TODO 2015-01-20 18:28:46.494184\n",
       "    6  Fairborn APT T4 ...        TODO 2015-02-17 11:28:38.808606\n",
       "    7  Fairborn APT T3 ...        TODO 2016-02-11 16:51:44.147206\n",
       "    8           NARVAL ...        TODO 2016-02-12 11:54:05.184881\n",
       "    9 Fairborn APT T11 ...        TODO 2016-02-12 14:07:16.376686\n",
       "   10            TIGRE ...        TODO 2017-02-02 13:30:00.305440"
      ]
     },
     "execution_count": 8,
     "metadata": {},
     "output_type": "execute_result"
    }
   ],
   "source": [
    "instruments = db.fetchall_instruments()\n",
    "print(\"N instruments\", len(instruments))\n",
    "instruments"
   ]
  },
  {
   "cell_type": "markdown",
   "metadata": {},
   "source": [
    "## stars\n",
    "\n",
    "Each datum is associated with a particular star.  This primitive API returns the contents of the `star` table directly.\n",
    "\n",
    "**TODO: Develop a more user-friendly way of accessing the known stars**."
   ]
  },
  {
   "cell_type": "code",
   "execution_count": 9,
   "metadata": {},
   "outputs": [
    {
     "name": "stdout",
     "output_type": "stream",
     "text": [
      "N stars 1374\n"
     ]
    },
    {
     "data": {
      "text/plain": [
       "[[1,\n",
       "  'Sun',\n",
       "  '00 00 0.0 +00 00 0.0',\n",
       "  0.0,\n",
       "  0.0,\n",
       "  datetime.datetime(2014, 11, 7, 15, 2, 32, 592585)],\n",
       " [2,\n",
       "  '* 9 Cet',\n",
       "  '00 22 51.7884 -12 12 33.969',\n",
       "  5.715785,\n",
       "  -12.2094358333333,\n",
       "  datetime.datetime(2014, 11, 7, 15, 2, 32, 592585)],\n",
       " [3,\n",
       "  'HD 2454',\n",
       "  '00 28 20.0517 +10 11 23.450',\n",
       "  7.08354875,\n",
       "  10.1898472222222,\n",
       "  datetime.datetime(2014, 11, 7, 15, 2, 32, 592585)]]"
      ]
     },
     "execution_count": 9,
     "metadata": {},
     "output_type": "execute_result"
    }
   ],
   "source": [
    "stars = db.fetch_starlist()\n",
    "print(\"N stars\", len(stars))\n",
    "stars[0:3]"
   ]
  },
  {
   "cell_type": "markdown",
   "metadata": {},
   "source": [
    "## Properties\n",
    "\n",
    "A `property` is a single datum in sunstardb.  It declares that a given `datatype` exists for a `star`, from the associated `source`, `origin`, and `instrument`.  This primitive API returns the contents of the `property` table directly, which is simply a collection of integer keys.\n",
    "\n",
    "**TODO: Develop a more user-friendly way of accessing properties.**."
   ]
  },
  {
   "cell_type": "code",
   "execution_count": 10,
   "metadata": {},
   "outputs": [
    {
     "name": "stdout",
     "output_type": "stream",
     "text": [
      "N properties 1191\n"
     ]
    },
    {
     "data": {
      "text/plain": [
       "[[1, 1, 1, 1, 1, 1, datetime.datetime(2014, 11, 7, 15, 2, 32, 592585)],\n",
       " [2, 2, 1, 1, 1, 1, datetime.datetime(2014, 11, 7, 15, 2, 32, 592585)],\n",
       " [3, 3, 1, 1, 1, 1, datetime.datetime(2014, 11, 7, 15, 2, 32, 592585)]]"
      ]
     },
     "execution_count": 10,
     "metadata": {},
     "output_type": "execute_result"
    }
   ],
   "source": [
    "props = db.fetchall_properties()\n",
    "print(\"N properties\", len(props))\n",
    "props[0:3]"
   ]
  },
  {
   "cell_type": "markdown",
   "metadata": {},
   "source": [
    "## Datasets\n",
    "\n",
    "A dataset is a collection of properties that consists of unique `star`, `datatype` pairs.  Essentially, it is a table of data with non-redundant entries for each data type.  A dataset is automatically generated from each data source (above), which creates a table identical to the data source.\n",
    "\n",
    "**TODO: In the future, datasets will be added which correspond to published collections of heterogeneous measurements, for example that of Saar & Brandenburg 1999 and Bohm-Vitense 2007.**"
   ]
  },
  {
   "cell_type": "code",
   "execution_count": 11,
   "metadata": {},
   "outputs": [
    {
     "name": "stdout",
     "output_type": "stream",
     "text": [
      "N datasets 19\n"
     ]
    },
    {
     "data": {
      "text/html": [
       "<i>Table length=19</i>\n",
       "<table id=\"table4470088984\" class=\"table-striped table-bordered table-condensed\">\n",
       "<thead><tr><th>id</th><th>name</th><th>description</th><th>insert_time</th></tr></thead>\n",
       "<thead><tr><th>int64</th><th>str20</th><th>str71</th><th>object</th></tr></thead>\n",
       "<tr><td>1</td><td>Baliunas1995</td><td>Dataset automatically generated from data source &apos;Baliunas1995&apos;</td><td>2014-11-07 15:02:32.592585</td></tr>\n",
       "<tr><td>2</td><td>Duncan1991</td><td>Dataset automatically generated from data source &apos;Duncan1991&apos;</td><td>2014-11-07 15:16:51.076503</td></tr>\n",
       "<tr><td>7</td><td>SMARTS_HK</td><td>Dataset automatically generated from data source &apos;SMARTS_HK&apos;</td><td>2014-12-05 14:46:14.882798</td></tr>\n",
       "<tr><td>9</td><td>Isaacson2010</td><td>Dataset automatically generated from data source &apos;Isaacson2010&apos;</td><td>2015-01-19 15:59:29.824817</td></tr>\n",
       "<tr><td>10</td><td>HARPS</td><td>Dataset automatically generated from data source &apos;HARPS&apos;</td><td>2015-01-20 18:32:53.963037</td></tr>\n",
       "<tr><td>15</td><td>FairbornAPT</td><td>Dataset automatically generated from data source &apos;FairbornAPT&apos;</td><td>2015-02-17 11:50:38.293245</td></tr>\n",
       "<tr><td>17</td><td>SSS</td><td>Dataset automatically generated from data source &apos;SSS&apos;</td><td>2015-10-01 13:55:54.261018</td></tr>\n",
       "<tr><td>20</td><td>MWO_HK</td><td>Dataset automatically generated from data source &apos;MWO_HK&apos;</td><td>2016-02-03 15:25:08.017729</td></tr>\n",
       "<tr><td>25</td><td>Baliunas1996</td><td>Dataset automatically generated from data source &apos;Baliunas1996&apos;</td><td>2016-02-10 12:12:45.036267</td></tr>\n",
       "<tr><td>31</td><td>Donahue1996</td><td>Dataset automatically generated from data source &apos;Donahue1996&apos;</td><td>2016-02-11 14:27:25.346527</td></tr>\n",
       "<tr><td>33</td><td>Noyes1984</td><td>Dataset automatically generated from data source &apos;Noyes1984&apos;</td><td>2016-02-11 15:04:36.131857</td></tr>\n",
       "<tr><td>36</td><td>Donahue1993phd</td><td>Dataset automatically generated from data source &apos;Donahue1993phd&apos;</td><td>2016-02-11 15:28:47.514933</td></tr>\n",
       "<tr><td>39</td><td>Gaidos2000</td><td>Dataset automatically generated from data source &apos;Gaidos2000&apos;</td><td>2016-02-11 17:10:45.847451</td></tr>\n",
       "<tr><td>41</td><td>Petit2008</td><td>Dataset automatically generated from data source &apos;Petit2008&apos;</td><td>2016-02-12 12:16:57.563765</td></tr>\n",
       "<tr><td>44</td><td>Simpson2010</td><td>Dataset automatically generated from data source &apos;Simpson2010&apos;</td><td>2016-02-12 14:08:46.560031</td></tr>\n",
       "<tr><td>46</td><td>Suarez_Mascareno2015</td><td>Dataset automatically generated from data source &apos;Suarez_Mascareno2015&apos;</td><td>2016-02-12 14:45:11.149287</td></tr>\n",
       "<tr><td>48</td><td>Olah2016</td><td>Dataset automatically generated from data source &apos;Olah2016&apos;</td><td>2017-01-27 15:40:42.427325</td></tr>\n",
       "<tr><td>50</td><td>Hempelmann2016</td><td>Dataset automatically generated from data source &apos;Hempelmann2016&apos;</td><td>2017-02-02 14:09:36.715040</td></tr>\n",
       "<tr><td>51</td><td>Donahue1997</td><td>Dataset automatically generated from data source &apos;Donahue1997&apos;</td><td>2017-02-03 15:10:47.803152</td></tr>\n",
       "</table>"
      ],
      "text/plain": [
       "<Table length=19>\n",
       "  id          name         ...        insert_time        \n",
       "int64        str20         ...           object          \n",
       "----- -------------------- ... --------------------------\n",
       "    1         Baliunas1995 ... 2014-11-07 15:02:32.592585\n",
       "    2           Duncan1991 ... 2014-11-07 15:16:51.076503\n",
       "    7            SMARTS_HK ... 2014-12-05 14:46:14.882798\n",
       "    9         Isaacson2010 ... 2015-01-19 15:59:29.824817\n",
       "   10                HARPS ... 2015-01-20 18:32:53.963037\n",
       "   15          FairbornAPT ... 2015-02-17 11:50:38.293245\n",
       "   17                  SSS ... 2015-10-01 13:55:54.261018\n",
       "   20               MWO_HK ... 2016-02-03 15:25:08.017729\n",
       "   25         Baliunas1996 ... 2016-02-10 12:12:45.036267\n",
       "   31          Donahue1996 ... 2016-02-11 14:27:25.346527\n",
       "   33            Noyes1984 ... 2016-02-11 15:04:36.131857\n",
       "   36       Donahue1993phd ... 2016-02-11 15:28:47.514933\n",
       "   39           Gaidos2000 ... 2016-02-11 17:10:45.847451\n",
       "   41            Petit2008 ... 2016-02-12 12:16:57.563765\n",
       "   44          Simpson2010 ... 2016-02-12 14:08:46.560031\n",
       "   46 Suarez_Mascareno2015 ... 2016-02-12 14:45:11.149287\n",
       "   48             Olah2016 ... 2017-01-27 15:40:42.427325\n",
       "   50       Hempelmann2016 ... 2017-02-02 14:09:36.715040\n",
       "   51          Donahue1997 ... 2017-02-03 15:10:47.803152"
      ]
     },
     "execution_count": 11,
     "metadata": {},
     "output_type": "execute_result"
    }
   ],
   "source": [
    "dsets = db.fetchall_datasets()\n",
    "print(\"N datasets\", len(dsets))\n",
    "dsets"
   ]
  },
  {
   "cell_type": "markdown",
   "metadata": {},
   "source": [
    "### Fetching a dataset and displaying a feature-rich table\n",
    "\n",
    "Below we fetch the contents of one of the datasets and use the `astropy.table.Table` method `show_in_notebook()` to render the table as a paginated, sortable, searchable HTML table.  Clicking on the column name sorts the table, entering text in the search field filters results.  For example, type \"flat\" to show only the flat-activity stars in Baliunas et al. 1995."
   ]
  },
  {
   "cell_type": "code",
   "execution_count": 12,
   "metadata": {
    "scrolled": false
   },
   "outputs": [
    {
     "data": {
      "text/html": [
       "<i>Table length=112</i>\n",
       "<table id=\"table4470427888-614899\" class=\"table-striped table-bordered table-condensed\">\n",
       "<thead><tr><th>idx</th><th>star</th><th>S_mean</th><th>activity_class</th><th>Pcyc</th></tr></thead>\n",
       "<tr><td>0</td><td>Sun</td><td>0.179</td><td>cycle</td><td>10.0</td></tr>\n",
       "<tr><td>1</td><td>* 9 Cet</td><td>0.349</td><td>cycle</td><td>9.1</td></tr>\n",
       "<tr><td>2</td><td>HD 2454</td><td>0.17</td><td>var</td><td>None</td></tr>\n",
       "<tr><td>3</td><td>* 14 Cet</td><td>0.224</td><td>cycle</td><td>4.9</td></tr>\n",
       "<tr><td>4</td><td>HR 159</td><td>0.183</td><td>var</td><td>None</td></tr>\n",
       "<tr><td>5</td><td>* 54 Psc</td><td>0.176</td><td>cycle</td><td>13.8</td></tr>\n",
       "<tr><td>6</td><td>HD 3795</td><td>0.156</td><td>var</td><td>None</td></tr>\n",
       "<tr><td>7</td><td>HD 4628</td><td>0.23</td><td>cycle</td><td>8.37</td></tr>\n",
       "<tr><td>8</td><td>* 44 And</td><td>0.194</td><td>var</td><td>None</td></tr>\n",
       "<tr><td>9</td><td>HR 448</td><td>0.136</td><td>long</td><td>None</td></tr>\n",
       "<tr><td>10</td><td>* 107 Psc</td><td>0.198</td><td>cycle</td><td>9.6</td></tr>\n",
       "<tr><td>11</td><td>* tau Cet</td><td>0.171</td><td>flat</td><td>None</td></tr>\n",
       "<tr><td>12</td><td>HR 511</td><td>0.28</td><td>undetermined</td><td>7.0</td></tr>\n",
       "<tr><td>13</td><td>* 112 Psc</td><td>0.16</td><td>var</td><td>None</td></tr>\n",
       "<tr><td>14</td><td>* 64 Cet</td><td>0.131</td><td>flat</td><td>None</td></tr>\n",
       "<tr><td>15</td><td>HD 16160</td><td>0.226</td><td>cycle</td><td>13.2</td></tr>\n",
       "<tr><td>16</td><td>HR 784</td><td>0.215</td><td>var</td><td>None</td></tr>\n",
       "<tr><td>17</td><td>HR 857</td><td>0.653</td><td>long</td><td>None</td></tr>\n",
       "<tr><td>18</td><td>* rho Ari</td><td>0.185</td><td>fair</td><td>6.8</td></tr>\n",
       "<tr><td>19</td><td>* kap01 Cet</td><td>0.366</td><td>cycle</td><td>5.6</td></tr>\n",
       "<tr><td>20</td><td>V* eps Eri</td><td>0.496</td><td>long</td><td>None</td></tr>\n",
       "<tr><td>21</td><td>HD 22072</td><td>0.131</td><td>var</td><td>None</td></tr>\n",
       "<tr><td>22</td><td>* del Eri</td><td>0.137</td><td>flat</td><td>None</td></tr>\n",
       "<tr><td>23</td><td>* 50 Per</td><td>0.3</td><td>long</td><td>None</td></tr>\n",
       "<tr><td>24</td><td>HR 1321</td><td>0.396</td><td>cycle</td><td>7.8</td></tr>\n",
       "<tr><td>25</td><td>HR 1322</td><td>0.287</td><td>var</td><td>None</td></tr>\n",
       "<tr><td>26</td><td>* omi02 Eri</td><td>0.206</td><td>cycle</td><td>10.1</td></tr>\n",
       "<tr><td>27</td><td>HD 29645</td><td>0.14</td><td>long</td><td>None</td></tr>\n",
       "<tr><td>28</td><td>* 58 Eri</td><td>0.297</td><td>var</td><td>None</td></tr>\n",
       "<tr><td>29</td><td>HD 32147</td><td>0.286</td><td>cycle</td><td>11.1</td></tr>\n",
       "<tr><td>30</td><td>HR 1687</td><td>0.214</td><td>long</td><td>None</td></tr>\n",
       "<tr><td>31</td><td>* 111 Tau</td><td>0.332</td><td>long</td><td>None</td></tr>\n",
       "<tr><td>32</td><td>HR 1925</td><td>0.453</td><td>cycle</td><td>3.6</td></tr>\n",
       "<tr><td>33</td><td>* chi01 Ori</td><td>0.325</td><td>var</td><td>None</td></tr>\n",
       "<tr><td>34</td><td>HD 43587</td><td>0.156</td><td>flat</td><td>None</td></tr>\n",
       "<tr><td>35</td><td>HD 45067</td><td>0.141</td><td>flat</td><td>None</td></tr>\n",
       "<tr><td>36</td><td>* alf CMi</td><td>0.171</td><td>var</td><td>None</td></tr>\n",
       "<tr><td>37</td><td>V* pi.01 UMa</td><td>0.367</td><td>var</td><td>None</td></tr>\n",
       "<tr><td>38</td><td>HR 3499</td><td>0.279</td><td>var</td><td>None</td></tr>\n",
       "<tr><td>39</td><td>HD 76151</td><td>0.246</td><td>cycle</td><td>2.52</td></tr>\n",
       "<tr><td>40</td><td>* 61 Cnc</td><td>0.148</td><td>cycle</td><td>7.1</td></tr>\n",
       "<tr><td>41</td><td>HD 78366</td><td>0.248</td><td>cycle</td><td>12.2</td></tr>\n",
       "<tr><td>42</td><td>HR 3750</td><td>0.172</td><td>cycle</td><td>8.17</td></tr>\n",
       "<tr><td>43</td><td>HD 82443</td><td>0.635</td><td>cycle</td><td>2.8</td></tr>\n",
       "<tr><td>44</td><td>* 11 LMi</td><td>0.284</td><td>cycle</td><td>7.9</td></tr>\n",
       "<tr><td>45</td><td>* 34 Leo</td><td>0.17</td><td>var</td><td>None</td></tr>\n",
       "<tr><td>46</td><td>HD 88737</td><td>0.234</td><td>cycle</td><td>24.0</td></tr>\n",
       "<tr><td>47</td><td>HD 89744</td><td>0.137</td><td>flat</td><td>None</td></tr>\n",
       "<tr><td>48</td><td>HD 95735</td><td>0.424</td><td>var</td><td>None</td></tr>\n",
       "<tr><td>49</td><td>HD 97344</td><td>0.335</td><td>var</td><td>None</td></tr>\n",
       "<tr><td>50</td><td>* 88 Leo</td><td>0.165</td><td>cycle</td><td>3.56</td></tr>\n",
       "<tr><td>51</td><td>* 89 Leo</td><td>0.202</td><td>var</td><td>None</td></tr>\n",
       "<tr><td>52</td><td>* 61 UMa</td><td>0.311</td><td>var</td><td>None</td></tr>\n",
       "<tr><td>53</td><td>HD 103095</td><td>0.188</td><td>cycle</td><td>7.3</td></tr>\n",
       "<tr><td>54</td><td>HR 4657</td><td>0.208</td><td>var</td><td>None</td></tr>\n",
       "<tr><td>55</td><td>* 9 Com</td><td>0.135</td><td>long</td><td>None</td></tr>\n",
       "<tr><td>56</td><td>HR 4867</td><td>0.3</td><td>cycle</td><td>7.0</td></tr>\n",
       "<tr><td>57</td><td>* alf Com A</td><td>0.244</td><td>long</td><td>None</td></tr>\n",
       "<tr><td>58</td><td>* bet Com</td><td>0.201</td><td>cycle</td><td>16.6</td></tr>\n",
       "<tr><td>59</td><td>HD 115043</td><td>0.327</td><td>var</td><td>None</td></tr>\n",
       "<tr><td>60</td><td>* e Vir</td><td>0.313</td><td>var</td><td>None</td></tr>\n",
       "<tr><td>61</td><td>HD 115404</td><td>0.535</td><td>cycle</td><td>12.4</td></tr>\n",
       "<tr><td>62</td><td>* 61 Vir</td><td>0.162</td><td>var</td><td>None</td></tr>\n",
       "<tr><td>63</td><td>* tau Boo</td><td>0.191</td><td>cycle</td><td>11.6</td></tr>\n",
       "<tr><td>64</td><td>* 14 Boo</td><td>0.133</td><td>flat</td><td>None</td></tr>\n",
       "<tr><td>65</td><td>* iot Vir</td><td>0.21</td><td>long</td><td>None</td></tr>\n",
       "<tr><td>66</td><td>HD 126053</td><td>0.165</td><td>cycle</td><td>22.0</td></tr>\n",
       "<tr><td>67</td><td>V* EK Dra</td><td>0.544</td><td>var</td><td>None</td></tr>\n",
       "<tr><td>68</td><td>* ksi Boo A</td><td>0.461</td><td>var</td><td>None</td></tr>\n",
       "<tr><td>69</td><td>* ksi Boo B</td><td>1.381</td><td>long</td><td>None</td></tr>\n",
       "<tr><td>70</td><td>* 5 Ser</td><td>0.14</td><td>long</td><td>None</td></tr>\n",
       "<tr><td>71</td><td>* eta CrB</td><td>0.184</td><td>var</td><td>None</td></tr>\n",
       "<tr><td>72</td><td>* lam Ser</td><td>0.155</td><td>long</td><td>None</td></tr>\n",
       "<tr><td>73</td><td>* chi Her</td><td>0.147</td><td>flat</td><td>None</td></tr>\n",
       "<tr><td>74</td><td>* rho CrB</td><td>0.15</td><td>long</td><td>None</td></tr>\n",
       "<tr><td>75</td><td>* 12 Oph</td><td>0.339</td><td>cycle</td><td>17.4</td></tr>\n",
       "<tr><td>76</td><td>HD 152391</td><td>0.393</td><td>cycle</td><td>10.9</td></tr>\n",
       "<tr><td>77</td><td>V* V2213 Oph</td><td>0.269</td><td>cycle</td><td>7.4</td></tr>\n",
       "<tr><td>78</td><td>* 36 Oph B</td><td>0.384</td><td>cycle</td><td>5.7</td></tr>\n",
       "<tr><td>79</td><td>* 36 Oph A</td><td>0.375</td><td>var</td><td>None</td></tr>\n",
       "<tr><td>80</td><td>V* V2215 Oph</td><td>0.77</td><td>cycle</td><td>21.0</td></tr>\n",
       "<tr><td>81</td><td>HR 6489</td><td>0.202</td><td>cycle</td><td>15.9</td></tr>\n",
       "<tr><td>82</td><td>HR 6516</td><td>0.158</td><td>flat</td><td>None</td></tr>\n",
       "<tr><td>83</td><td>HR 6541</td><td>0.144</td><td>flat</td><td>None</td></tr>\n",
       "<tr><td>84</td><td>HD 160346</td><td>0.3</td><td>cycle</td><td>7.0</td></tr>\n",
       "<tr><td>85</td><td>* 84 Her</td><td>0.138</td><td>cycle</td><td>5.7</td></tr>\n",
       "<tr><td>86</td><td>* 70 Oph A</td><td>0.392</td><td>cycle</td><td>5.1</td></tr>\n",
       "<tr><td>87</td><td>* 70 Oph B</td><td>0.691</td><td>var</td><td>None</td></tr>\n",
       "<tr><td>88</td><td>HR 6806</td><td>0.19</td><td>cycle</td><td>15.8</td></tr>\n",
       "<tr><td>89</td><td>HD 176051</td><td>0.176</td><td>cycle</td><td>10.0</td></tr>\n",
       "<tr><td>90</td><td>HR 7163</td><td>0.202</td><td>long</td><td>None</td></tr>\n",
       "<tr><td>91</td><td>HD 178428</td><td>0.154</td><td>flat</td><td>None</td></tr>\n",
       "<tr><td>92</td><td>HR 7354</td><td>0.216</td><td>cycle</td><td>5.1</td></tr>\n",
       "<tr><td>93</td><td>* b Aql</td><td>0.148</td><td>flat</td><td>None</td></tr>\n",
       "<tr><td>94</td><td>* sig Dra</td><td>0.215</td><td>cycle</td><td>7.0</td></tr>\n",
       "<tr><td>95</td><td>* 17 Cyg</td><td>0.154</td><td>long</td><td>None</td></tr>\n",
       "<tr><td>96</td><td>* omi Aql</td><td>0.148</td><td>cycle</td><td>5.4</td></tr>\n",
       "<tr><td>97</td><td>* bet Aql</td><td>0.136</td><td>cycle</td><td>4.1</td></tr>\n",
       "<tr><td>98</td><td>HD 190007</td><td>0.746</td><td>cycle</td><td>13.7</td></tr>\n",
       "<tr><td>99</td><td>HD 190360</td><td>0.146</td><td>flat</td><td>None</td></tr>\n",
       "<tr><td>100</td><td>* 15 Sge</td><td>0.194</td><td>cycle</td><td>2.6</td></tr>\n",
       "<tr><td>101</td><td>HR 7793</td><td>0.198</td><td>cycle</td><td>16.7</td></tr>\n",
       "<tr><td>102</td><td>* 61 Cyg A</td><td>0.658</td><td>cycle</td><td>7.3</td></tr>\n",
       "<tr><td>103</td><td>* 61 Cyg B</td><td>0.986</td><td>cycle</td><td>11.7</td></tr>\n",
       "<tr><td>104</td><td>V* HN Peg</td><td>0.33</td><td>cycle</td><td>6.2</td></tr>\n",
       "<tr><td>105</td><td>* 15 Peg</td><td>0.152</td><td>flat</td><td>None</td></tr>\n",
       "<tr><td>106</td><td>* 34 Peg</td><td>0.14</td><td>long</td><td>None</td></tr>\n",
       "<tr><td>107</td><td>* 49 Peg</td><td>0.142</td><td>flat</td><td>None</td></tr>\n",
       "<tr><td>108</td><td>* 51 Peg</td><td>0.149</td><td>var</td><td>None</td></tr>\n",
       "<tr><td>109</td><td>* 94 Aqr</td><td>0.155</td><td>cycle</td><td>21.0</td></tr>\n",
       "<tr><td>110</td><td>* 94 Aqr B</td><td>0.204</td><td>cycle</td><td>10.0</td></tr>\n",
       "<tr><td>111</td><td>* 85 Peg</td><td>0.184</td><td>cycle</td><td>10.2</td></tr>\n",
       "</table><style>table.dataTable {clear: both; width: auto !important; margin: 0 !important;}\n",
       ".dataTables_info, .dataTables_length, .dataTables_filter, .dataTables_paginate{\n",
       "display: inline-block; margin-right: 1em; }\n",
       ".paginate_button { margin-right: 5px; }\n",
       "</style>\n",
       "<script>\n",
       "\n",
       "var astropy_sort_num = function(a, b) {\n",
       "    var a_num = parseFloat(a);\n",
       "    var b_num = parseFloat(b);\n",
       "\n",
       "    if (isNaN(a_num) && isNaN(b_num))\n",
       "        return ((a < b) ? -1 : ((a > b) ? 1 : 0));\n",
       "    else if (!isNaN(a_num) && !isNaN(b_num))\n",
       "        return ((a_num < b_num) ? -1 : ((a_num > b_num) ? 1 : 0));\n",
       "    else\n",
       "        return isNaN(a_num) ? -1 : 1;\n",
       "}\n",
       "\n",
       "require.config({paths: {\n",
       "    datatables: 'https://cdn.datatables.net/1.10.12/js/jquery.dataTables.min'\n",
       "}});\n",
       "require([\"datatables\"], function(){\n",
       "    console.log(\"$('#table4470427888-614899').dataTable()\");\n",
       "    \n",
       "jQuery.extend( jQuery.fn.dataTableExt.oSort, {\n",
       "    \"optionalnum-asc\": astropy_sort_num,\n",
       "    \"optionalnum-desc\": function (a,b) { return -astropy_sort_num(a, b); }\n",
       "});\n",
       "\n",
       "    $('#table4470427888-614899').dataTable({\n",
       "        order: [],\n",
       "        pageLength: 10,\n",
       "        lengthMenu: [[10, 25, 50, 100, 500, 1000, -1], [10, 25, 50, 100, 500, 1000, 'All']],\n",
       "        pagingType: \"full_numbers\",\n",
       "        columnDefs: [{targets: [0, 2], type: \"optionalnum\"}]\n",
       "    });\n",
       "});\n",
       "</script>\n"
      ],
      "text/plain": [
       "<IPython.core.display.HTML object>"
      ]
     },
     "execution_count": 12,
     "metadata": {},
     "output_type": "execute_result"
    }
   ],
   "source": [
    "b95 = db.fetch_data_table('Baliunas1995', ['S_mean', 'activity_class', 'Pcyc'])\n",
    "b95.show_in_notebook(display_length=10)"
   ]
  },
  {
   "cell_type": "markdown",
   "metadata": {},
   "source": [
    "## Filtering dataset tables\n",
    "\n",
    "Filtering can be done programatically as well, in the usual way for `astropy` tables or `numpy` arrays.  Here we filter out the flat-activity stars and plot them in a histogram along with the full distribution."
   ]
  },
  {
   "cell_type": "code",
   "execution_count": 13,
   "metadata": {},
   "outputs": [
    {
     "data": {
      "text/plain": [
       "Text(0.5,0,'S-index')"
      ]
     },
     "execution_count": 13,
     "metadata": {},
     "output_type": "execute_result"
    },
    {
     "data": {
      "image/png": "[encoded data removed]",
      "text/plain": [
       "<Figure size 288x288 with 1 Axes>"
      ]
     },
     "metadata": {},
     "output_type": "display_data"
    }
   ],
   "source": [
    "sel_flats = b95['activity_class'] == 'flat' # select the flat stars\n",
    "flats = b95[sel_flats]\n",
    "\n",
    "# Plot histogram of activity, highlighting the flat-activity stars\n",
    "plt.figure(figsize=(4,4))\n",
    "bins = np.arange(0., 1.4, 0.05)\n",
    "plt.hist([b95['S_mean'], flats['S_mean']], bins, histtype='step', label=['All Stars', 'Flat Stars'])\n",
    "plt.legend()\n",
    "plt.title(\"B95 Mean Activity\")\n",
    "plt.xlabel('S-index')"
   ]
  },
  {
   "cell_type": "markdown",
   "metadata": {},
   "source": [
    "## Client-side joining dataset tables\n",
    "\n",
    "Multiple datasets can be joined together client-side.  In astronomy parlance this is known as \"cross-matching\", but it is done more directly here by the star name."
   ]
  },
  {
   "cell_type": "code",
   "execution_count": 14,
   "metadata": {},
   "outputs": [
    {
     "data": {
      "text/html": [
       "<i>Table length=37</i>\n",
       "<table id=\"table4471134640-764338\" class=\"table-striped table-bordered table-condensed\">\n",
       "<thead><tr><th>idx</th><th>star</th><th>S_mean</th><th>activity_class</th><th>Pcyc</th><th>Prot</th></tr></thead>\n",
       "<tr><td>0</td><td>* 107 Psc</td><td>0.198</td><td>cycle</td><td>9.6</td><td>35.2</td></tr>\n",
       "<tr><td>1</td><td>* 11 LMi</td><td>0.284</td><td>cycle</td><td>7.9</td><td>18.6</td></tr>\n",
       "<tr><td>2</td><td>* 111 Tau</td><td>0.332</td><td>long</td><td>None</td><td>3.56</td></tr>\n",
       "<tr><td>3</td><td>* 12 Oph</td><td>0.339</td><td>cycle</td><td>17.4</td><td>21.07</td></tr>\n",
       "<tr><td>4</td><td>* 15 Sge</td><td>0.194</td><td>cycle</td><td>2.6</td><td>13.94</td></tr>\n",
       "<tr><td>5</td><td>* 36 Oph A</td><td>0.375</td><td>var</td><td>None</td><td>20.69</td></tr>\n",
       "<tr><td>6</td><td>* 36 Oph B</td><td>0.384</td><td>cycle</td><td>5.7</td><td>21.11</td></tr>\n",
       "<tr><td>7</td><td>* 61 Cyg A</td><td>0.658</td><td>cycle</td><td>7.3</td><td>35.37</td></tr>\n",
       "<tr><td>8</td><td>* 61 Cyg B</td><td>0.986</td><td>cycle</td><td>11.7</td><td>37.84</td></tr>\n",
       "<tr><td>9</td><td>* 61 UMa</td><td>0.311</td><td>var</td><td>None</td><td>16.68</td></tr>\n",
       "<tr><td>10</td><td>* 9 Cet</td><td>0.349</td><td>cycle</td><td>9.1</td><td>7.78</td></tr>\n",
       "<tr><td>11</td><td>* alf Com A</td><td>0.244</td><td>long</td><td>None</td><td>3.02</td></tr>\n",
       "<tr><td>12</td><td>* bet Com</td><td>0.201</td><td>cycle</td><td>16.6</td><td>12.35</td></tr>\n",
       "<tr><td>13</td><td>* chi01 Ori</td><td>0.325</td><td>var</td><td>None</td><td>5.36</td></tr>\n",
       "<tr><td>14</td><td>* e Vir</td><td>0.313</td><td>var</td><td>None</td><td>3.33</td></tr>\n",
       "<tr><td>15</td><td>* kap01 Cet</td><td>0.366</td><td>cycle</td><td>5.6</td><td>9.24</td></tr>\n",
       "<tr><td>16</td><td>* ksi Boo A</td><td>0.461</td><td>var</td><td>None</td><td>6.31</td></tr>\n",
       "<tr><td>17</td><td>* ksi Boo B</td><td>1.381</td><td>long</td><td>None</td><td>11.94</td></tr>\n",
       "<tr><td>18</td><td>* lam Ser</td><td>0.155</td><td>long</td><td>None</td><td>25.8</td></tr>\n",
       "<tr><td>19</td><td>HD 115404</td><td>0.535</td><td>cycle</td><td>12.4</td><td>18.47</td></tr>\n",
       "<tr><td>20</td><td>HD 152391</td><td>0.393</td><td>cycle</td><td>10.9</td><td>11.43</td></tr>\n",
       "<tr><td>21</td><td>HD 160346</td><td>0.3</td><td>cycle</td><td>7.0</td><td>36.4</td></tr>\n",
       "<tr><td>22</td><td>HD 16160</td><td>0.226</td><td>cycle</td><td>13.2</td><td>48.0</td></tr>\n",
       "<tr><td>23</td><td>HD 190007</td><td>0.746</td><td>cycle</td><td>13.7</td><td>28.95</td></tr>\n",
       "<tr><td>24</td><td>HD 4628</td><td>0.23</td><td>cycle</td><td>8.37</td><td>38.5</td></tr>\n",
       "<tr><td>25</td><td>HD 78366</td><td>0.248</td><td>cycle</td><td>12.2</td><td>9.67</td></tr>\n",
       "<tr><td>26</td><td>HR 1321</td><td>0.396</td><td>cycle</td><td>7.8</td><td>7.15</td></tr>\n",
       "<tr><td>27</td><td>HR 3750</td><td>0.172</td><td>cycle</td><td>8.17</td><td>40.2</td></tr>\n",
       "<tr><td>28</td><td>HR 4657</td><td>0.208</td><td>var</td><td>None</td><td>6.91</td></tr>\n",
       "<tr><td>29</td><td>HR 6806</td><td>0.19</td><td>cycle</td><td>15.8</td><td>42.4</td></tr>\n",
       "<tr><td>30</td><td>HR 857</td><td>0.653</td><td>long</td><td>None</td><td>6.76</td></tr>\n",
       "<tr><td>31</td><td>Sun</td><td>0.179</td><td>cycle</td><td>10.0</td><td>26.09</td></tr>\n",
       "<tr><td>32</td><td>V* EK Dra</td><td>0.544</td><td>var</td><td>None</td><td>2.8</td></tr>\n",
       "<tr><td>33</td><td>V* HN Peg</td><td>0.33</td><td>cycle</td><td>6.2</td><td>4.86</td></tr>\n",
       "<tr><td>34</td><td>V* V2213 Oph</td><td>0.269</td><td>cycle</td><td>7.4</td><td>7.78</td></tr>\n",
       "<tr><td>35</td><td>V* eps Eri</td><td>0.496</td><td>long</td><td>None</td><td>11.68</td></tr>\n",
       "<tr><td>36</td><td>V* pi.01 UMa</td><td>0.367</td><td>var</td><td>None</td><td>4.69</td></tr>\n",
       "</table><style>table.dataTable {clear: both; width: auto !important; margin: 0 !important;}\n",
       ".dataTables_info, .dataTables_length, .dataTables_filter, .dataTables_paginate{\n",
       "display: inline-block; margin-right: 1em; }\n",
       ".paginate_button { margin-right: 5px; }\n",
       "</style>\n",
       "<script>\n",
       "\n",
       "var astropy_sort_num = function(a, b) {\n",
       "    var a_num = parseFloat(a);\n",
       "    var b_num = parseFloat(b);\n",
       "\n",
       "    if (isNaN(a_num) && isNaN(b_num))\n",
       "        return ((a < b) ? -1 : ((a > b) ? 1 : 0));\n",
       "    else if (!isNaN(a_num) && !isNaN(b_num))\n",
       "        return ((a_num < b_num) ? -1 : ((a_num > b_num) ? 1 : 0));\n",
       "    else\n",
       "        return isNaN(a_num) ? -1 : 1;\n",
       "}\n",
       "\n",
       "require.config({paths: {\n",
       "    datatables: 'https://cdn.datatables.net/1.10.12/js/jquery.dataTables.min'\n",
       "}});\n",
       "require([\"datatables\"], function(){\n",
       "    console.log(\"$('#table4471134640-764338').dataTable()\");\n",
       "    \n",
       "jQuery.extend( jQuery.fn.dataTableExt.oSort, {\n",
       "    \"optionalnum-asc\": astropy_sort_num,\n",
       "    \"optionalnum-desc\": function (a,b) { return -astropy_sort_num(a, b); }\n",
       "});\n",
       "\n",
       "    $('#table4471134640-764338').dataTable({\n",
       "        order: [],\n",
       "        pageLength: 10,\n",
       "        lengthMenu: [[10, 25, 50, 100, 500, 1000, -1], [10, 25, 50, 100, 500, 1000, 'All']],\n",
       "        pagingType: \"full_numbers\",\n",
       "        columnDefs: [{targets: [0, 2, 5], type: \"optionalnum\"}]\n",
       "    });\n",
       "});\n",
       "</script>\n"
      ],
      "text/plain": [
       "<IPython.core.display.HTML object>"
      ]
     },
     "execution_count": 14,
     "metadata": {},
     "output_type": "execute_result"
    }
   ],
   "source": [
    "# Fetch the rotation periods from the Donahue1996 dataset\n",
    "d96_rots = db.fetch_data_table('Donahue1996', ['Prot'])\n",
    "\n",
    "# Join the cycle and rotation data on the star name and display the results\n",
    "cycrots = astropy.table.join(b95, d96_rots, keys=['star'])\n",
    "cycrots.show_in_notebook(display_length=10)"
   ]
  },
  {
   "cell_type": "markdown",
   "metadata": {},
   "source": [
    "The results of the join can be plotted inline."
   ]
  },
  {
   "cell_type": "code",
   "execution_count": 15,
   "metadata": {},
   "outputs": [
    {
     "data": {
      "text/plain": [
       "Text(0.5,1,'Cycle Period vs Rotation Period')"
      ]
     },
     "execution_count": 15,
     "metadata": {},
     "output_type": "execute_result"
    },
    {
     "data": {
      "image/png": "[encoded data removed]",
      "text/plain": [
       "<Figure size 288x288 with 1 Axes>"
      ]
     },
     "metadata": {},
     "output_type": "display_data"
    }
   ],
   "source": [
    "# Plot cycle period versus rotation period\n",
    "plt.figure(figsize=(4,4))\n",
    "plt.plot(cycrots['Prot'], cycrots['Pcyc'], 'ko')\n",
    "plt.xlabel('P_rot [d]')\n",
    "plt.ylabel('P_cyc [yr]')\n",
    "plt.title(\"Cycle Period vs Rotation Period\")"
   ]
  },
  {
   "cell_type": "markdown",
   "metadata": {},
   "source": [
    "## Fetching Time Series\n",
    "\n",
    "Time series may be accessed with the `fetch_timeseries` method.  To find which stars have time series in the database, the `fetch_starlist` method is used.  In this example we fetch and display three time series from the MWO HK Project."
   ]
  },
  {
   "cell_type": "code",
   "execution_count": 16,
   "metadata": {
    "scrolled": false
   },
   "outputs": [
    {
     "name": "stdout",
     "output_type": "stream",
     "text": [
      "* 9 Cet         N_obs=1013 t_start=1966-08-05T08:13:16.603 t_end=2002-11-24T08:13:16.134\n",
      "HD 115043       N_obs= 393 t_start=1983-06-12T08:28:37.377 t_end=2002-05-23T08:14:31.488\n",
      "V* HN Peg       N_obs=1455 t_start=1966-05-31T07:19:42.266 t_end=2002-09-21T08:25:04.528\n"
     ]
    },
    {
     "data": {
      "image/png": "[encoded data removed]",
      "text/plain": [
       "<Figure size 576x144 with 1 Axes>"
      ]
     },
     "metadata": {},
     "output_type": "display_data"
    },
    {
     "data": {
      "image/png": "[encoded data removed]",
      "text/plain": [
       "<Figure size 576x144 with 1 Axes>"
      ]
     },
     "metadata": {},
     "output_type": "display_data"
    },
    {
     "data": {
      "image/png": "[encoded data removed]",
      "text/plain": [
       "<Figure size 576x144 with 1 Axes>"
      ]
     },
     "metadata": {},
     "output_type": "display_data"
    }
   ],
   "source": [
    "# Get the list of stars which have timeseries data from the MWO_HK source\n",
    "mwo_stars = db.fetch_starlist('timeseries', source='MWO_HK')\n",
    "\n",
    "# Iterate through the list, print statistics and plot\n",
    "for star in mwo_stars[0:3]: # Limit to 3 for this example\n",
    "    starname = star['name']\n",
    "    \n",
    "    # Fetch the time series from sunstardb\n",
    "    ts_mwo = db.fetch_timeseries('S', starname, source='MWO_HK')\n",
    "    # Convert time axis from 'datetime' object to astropy.time.Time\n",
    "    t_mwo = astropy.time.Time(ts_mwo['obs_time'], format='datetime')\n",
    "    S_mwo = ts_mwo['S']\n",
    "    # Print statistics\n",
    "    print(\"%-15s N_obs=%4i t_start=%s t_end=%s\" % (starname, S_mwo.size, t_mwo[0].isot, t_mwo[-1].isot))\n",
    "    \n",
    "    # Plot timeseries\n",
    "    plt.figure(figsize=(8,2))\n",
    "    plt.plot(t_mwo.decimalyear, S_mwo, 'r.')\n",
    "    plt.title(starname)\n",
    "    plt.xlabel('Year')\n",
    "    plt.ylabel('S-index')"
   ]
  }
 ],
 "metadata": {
  "kernelspec": {
   "display_name": "Python 3",
   "language": "python",
   "name": "python3"
  },
  "language_info": {
   "codemirror_mode": {
    "name": "ipython",
    "version": 3
   },
   "file_extension": ".py",
   "mimetype": "text/x-python",
   "name": "python",
   "nbconvert_exporter": "python",
   "pygments_lexer": "ipython3",
   "version": "3.6.7"
  }
 },
 "nbformat": 4,
 "nbformat_minor": 1
}
