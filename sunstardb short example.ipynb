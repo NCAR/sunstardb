{
 "cells": [
  {
   "cell_type": "code",
   "execution_count": 1,
   "metadata": {
    "collapsed": false,
    "scrolled": true
   },
   "outputs": [],
   "source": [
    "# Load the necessary modules\n",
    "import sunstardb.database\n",
    "import astropy.table\n",
    "import os\n",
    "from matplotlib import pyplot as plt\n",
    "%matplotlib inline"
   ]
  },
  {
   "cell_type": "code",
   "execution_count": 2,
   "metadata": {
    "collapsed": false
   },
   "outputs": [],
   "source": [
    "# Connect to the database\n",
    "db = sunstardb.database.SunStarDB()"
   ]
  },
  {
   "cell_type": "code",
   "execution_count": 3,
   "metadata": {
    "collapsed": false
   },
   "outputs": [],
   "source": [
    "# Fetch the cycle periods from the Baliunas1995 dataset\n",
    "cycs = db.fetch_data_table('Baliunas1995', ['Pcyc'])"
   ]
  },
  {
   "cell_type": "code",
   "execution_count": 4,
   "metadata": {
    "collapsed": false
   },
   "outputs": [],
   "source": [
    "# Fetch the rotation periods from the Donahue1996 dataset\n",
    "rots = db.fetch_data_table('Donahue1996', ['Prot'])"
   ]
  },
  {
   "cell_type": "code",
   "execution_count": 5,
   "metadata": {
    "collapsed": false
   },
   "outputs": [
    {
     "data": {
      "text/html": [
       "&lt;Table length=23&gt;\n",
       "<table id=\"table4492177360-596103\" class=\"table-striped table-bordered table-condensed\">\n",
       "<thead><tr><th>idx</th><th>star</th><th>Pcyc</th><th>Prot</th></tr></thead>\n",
       "<tr><td>0</td><td>* 107 Psc</td><td>9.6</td><td>35.2</td></tr>\n",
       "<tr><td>1</td><td>* 11 LMi</td><td>7.9</td><td>18.6</td></tr>\n",
       "<tr><td>2</td><td>* 12 Oph</td><td>17.4</td><td>21.07</td></tr>\n",
       "<tr><td>3</td><td>* 15 Sge</td><td>2.6</td><td>13.94</td></tr>\n",
       "<tr><td>4</td><td>* 36 Oph B</td><td>5.7</td><td>21.11</td></tr>\n",
       "<tr><td>5</td><td>* 61 Cyg A</td><td>7.3</td><td>35.37</td></tr>\n",
       "<tr><td>6</td><td>* 61 Cyg B</td><td>11.7</td><td>37.84</td></tr>\n",
       "<tr><td>7</td><td>* 9 Cet</td><td>9.1</td><td>7.78</td></tr>\n",
       "<tr><td>8</td><td>* bet Com</td><td>16.6</td><td>12.35</td></tr>\n",
       "<tr><td>9</td><td>* kap01 Cet</td><td>5.6</td><td>9.24</td></tr>\n",
       "<tr><td>10</td><td>HD 115404</td><td>12.4</td><td>18.47</td></tr>\n",
       "<tr><td>11</td><td>HD 152391</td><td>10.9</td><td>11.43</td></tr>\n",
       "<tr><td>12</td><td>HD 160346</td><td>7.0</td><td>36.4</td></tr>\n",
       "<tr><td>13</td><td>HD 16160</td><td>13.2</td><td>48.0</td></tr>\n",
       "<tr><td>14</td><td>HD 190007</td><td>13.7</td><td>28.95</td></tr>\n",
       "<tr><td>15</td><td>HD 4628</td><td>8.37</td><td>38.5</td></tr>\n",
       "<tr><td>16</td><td>HD 78366</td><td>12.2</td><td>9.67</td></tr>\n",
       "<tr><td>17</td><td>HR 1321</td><td>7.8</td><td>7.15</td></tr>\n",
       "<tr><td>18</td><td>HR 3750</td><td>8.17</td><td>40.2</td></tr>\n",
       "<tr><td>19</td><td>HR 6806</td><td>15.8</td><td>42.4</td></tr>\n",
       "<tr><td>20</td><td>Sun</td><td>10.0</td><td>26.09</td></tr>\n",
       "<tr><td>21</td><td>V* HN Peg</td><td>6.2</td><td>4.86</td></tr>\n",
       "<tr><td>22</td><td>V* V2213 Oph</td><td>7.4</td><td>7.78</td></tr>\n",
       "</table><style>table.dataTable {clear: both; width: auto !important; margin: 0 !important;}\n",
       ".dataTables_info, .dataTables_length, .dataTables_filter, .dataTables_paginate{\n",
       "display: inline-block; margin-right: 1em; }\n",
       ".paginate_button { margin-right: 5px; }\n",
       "</style>\n",
       "<script>\n",
       "require.config({paths: {\n",
       "    datatables: 'https://cdn.datatables.net/1.10.9/js/jquery.dataTables.min'\n",
       "}});\n",
       "require([\"datatables\"], function(){\n",
       "    console.log(\"$('#table4492177360-596103').dataTable()\");\n",
       "    $('#table4492177360-596103').dataTable({\n",
       "        \"order\": [],\n",
       "        \"iDisplayLength\": 5,\n",
       "        \"aLengthMenu\": [[5, 10, 25, 50, 100, 500, 1000, -1], [5, 10, 25, 50, 100, 500, 1000, 'All']],\n",
       "        \"pagingType\": \"full_numbers\"\n",
       "    });\n",
       "});\n",
       "</script>\n"
      ],
      "text/plain": [
       "<IPython.core.display.HTML object>"
      ]
     },
     "execution_count": 5,
     "metadata": {},
     "output_type": "execute_result"
    }
   ],
   "source": [
    "# Join the cycle and rotation data on the star name and display the results\n",
    "cycrots = astropy.table.join(cycs, rots, keys=['star'])\n",
    "cycrots.show_in_notebook(display_length=5)"
   ]
  },
  {
   "cell_type": "code",
   "execution_count": 6,
   "metadata": {
    "collapsed": false
   },
   "outputs": [
    {
     "data": {
      "text/plain": [
       "<matplotlib.text.Text at 0x10bd10550>"
      ]
     },
     "execution_count": 6,
     "metadata": {},
     "output_type": "execute_result"
    },
    {
     "data": {
      "image/png": "[encoded data removed]",
      "text/plain": [
       "<matplotlib.figure.Figure at 0x10bc99990>"
      ]
     },
     "metadata": {},
     "output_type": "display_data"
    }
   ],
   "source": [
    "# Plot cycle period versus rotation period\n",
    "plt.figure(figsize=(4,4))\n",
    "plt.plot(cycrots['Prot'], cycrots['Pcyc'], 'ko')\n",
    "plt.xlabel('P_rot [d]')\n",
    "plt.ylabel('P_cyc [yr]')\n",
    "plt.title(\"Cycle Period vs Rotation Period\")"
   ]
  }
 ],
 "metadata": {
  "kernelspec": {
   "display_name": "Python 2",
   "language": "python",
   "name": "python2"
  },
  "language_info": {
   "codemirror_mode": {
    "name": "ipython",
    "version": 2
   },
   "file_extension": ".py",
   "mimetype": "text/x-python",
   "name": "python",
   "nbconvert_exporter": "python",
   "pygments_lexer": "ipython2",
   "version": "2.7.12"
  }
 },
 "nbformat": 4,
 "nbformat_minor": 1
}
